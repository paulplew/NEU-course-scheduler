{
 "cells": [
  {
   "cell_type": "code",
   "execution_count": 148,
   "id": "8efe7532-a01b-4ad6-bc05-1cec2150d469",
   "metadata": {},
   "outputs": [],
   "source": [
    "import requests\n",
    "from pprint import pprint\n",
    "from time import sleep"
   ]
  },
  {
   "cell_type": "code",
   "execution_count": 149,
   "id": "9e7f943a-7e82-4a40-a4f3-c57ce2084e14",
   "metadata": {},
   "outputs": [],
   "source": [
    "# GET\n",
    "TERM_URL = \"https://nubanner.neu.edu/StudentRegistrationSsb/ssb/classSearch/getTerms?offset={}&max={}\"\n",
    "SUBJECTS_URL = \"https://nubanner.neu.edu/StudentRegistrationSsb/ssb/classSearch/get_subject?searchTerm={}&term={}&offset={}&max={}\"\n",
    "SEARCH = \"https://nubanner.neu.edu/StudentRegistrationSsb/ssb/searchResults/searchResults?txt_subject={}&txt_courseNumber={}&txt_term={}&pageOffset={}&pageMaxSize={}\"\n",
    "\n",
    "# POST\n",
    "SET_TERM = \"https://nubanner.neu.edu/StudentRegistrationSsb/ssb/term/search\""
   ]
  },
  {
   "cell_type": "code",
   "execution_count": 150,
   "id": "e25aa115-8f82-4d5a-8886-3ae99467cea7",
   "metadata": {},
   "outputs": [],
   "source": [
    "def fetch_url_as_json(url):\n",
    "    response = requests.get(url)\n",
    "    # 200 means good \n",
    "    assert response.status_code == 200\n",
    "\n",
    "    return response.json()"
   ]
  },
  {
   "cell_type": "code",
   "execution_count": 151,
   "id": "499cf8e5-7340-4f30-9771-b9c31610f76e",
   "metadata": {},
   "outputs": [
    {
     "name": "stdout",
     "output_type": "stream",
     "text": [
      "https://nubanner.neu.edu/StudentRegistrationSsb/ssb/classSearch/getTerms?offset=1&max=10\n",
      "code: 202434\tdescription: 'Spring 2024 CPS Semester'\n",
      "code: 202432\tdescription: 'Spring 2024 Law Semester'\n",
      "code: 202430\tdescription: 'Spring 2024 Semester'\n",
      "code: 202425\tdescription: 'Winter 2024 CPS Quarter'\n",
      "code: 202415\tdescription: 'Fall 2023 CPS Quarter'\n",
      "code: 202414\tdescription: 'Fall 2023 CPS Semester'\n",
      "code: 202412\tdescription: 'Fall 2023 Law Semester'\n",
      "code: 202410\tdescription: 'Fall 2023 Semester'\n",
      "code: 202360\tdescription: 'Summer 2 2023 Semester (View Only)'\n",
      "code: 202355\tdescription: 'Summer 2023 CPS Quarter (View Only)'\n"
     ]
    }
   ],
   "source": [
    "page = 1\n",
    "num_results = 10\n",
    "\n",
    "QUERY_URL = TERM_URL.format(page, num_results)\n",
    "terms = fetch_url_as_json(QUERY_URL)\n",
    "print(QUERY_URL)\n",
    "\n",
    "for term in terms:\n",
    "    code, description = term.values()\n",
    "    print(f\"code: {code}\\tdescription: '{description}'\")"
   ]
  },
  {
   "cell_type": "code",
   "execution_count": 152,
   "id": "cf87d490-1c48-416f-9f86-eca80e9790e0",
   "metadata": {},
   "outputs": [],
   "source": [
    "# select code from previous cell\n",
    "TERM = 202410"
   ]
  },
  {
   "cell_type": "code",
   "execution_count": 153,
   "id": "a6d393f8-0073-441e-a752-83da83a90a3b",
   "metadata": {},
   "outputs": [
    {
     "name": "stdout",
     "output_type": "stream",
     "text": [
      "https://nubanner.neu.edu/StudentRegistrationSsb/ssb/classSearch/get_subject?searchTerm=&term=202410&offset=1&max=10\n",
      "[{'code': 'ACCT', 'description': 'Accounting'},\n",
      " {'code': 'AFAM', 'description': 'African American Studies'},\n",
      " {'code': 'AFRS', 'description': 'African Studies'},\n",
      " {'code': 'AFCS', 'description': 'Africana Studies'},\n",
      " {'code': 'AMSL', 'description': 'American Sign Language'},\n",
      " {'code': 'ANTH', 'description': 'Anthropology'},\n",
      " {'code': 'ARAB', 'description': 'Arabic'},\n",
      " {'code': 'ARCH', 'description': 'Architecture'},\n",
      " {'code': 'ARMY', 'description': 'Army ROTC'},\n",
      " {'code': 'ARTG', 'description': 'Art - Design'}]\n"
     ]
    }
   ],
   "source": [
    "search_term = \"\"\n",
    "page = 1\n",
    "num_results = 10\n",
    "\n",
    "QUERY_URL = SUBJECTS_URL.format(search_term, TERM, page, num_results)\n",
    "print(QUERY_URL)\n",
    "response = fetch_url_as_json(QUERY_URL)\n",
    "\n",
    "terms = response\n",
    "pprint(terms)"
   ]
  },
  {
   "cell_type": "code",
   "execution_count": 165,
   "id": "499cea2c-5b85-43dd-a400-17d6a1618c92",
   "metadata": {},
   "outputs": [
    {
     "name": "stdout",
     "output_type": "stream",
     "text": [
      "term=202410&studyPath=&studyPathText=&startDatepicker=&endDatepicker=\n",
      "{'Content-Type': 'application/x-www-form-urlencoded; charset=UT;', 'Cookie': 'JSESSIONID=4E77A4AD3B24D1D6DAE5DCB88DAF2359; nubanner-cookie=2636063131.36895.0000;'}\n",
      "{'fwdURL': '/StudentRegistrationSsb/ssb/null/null'}\n"
     ]
    }
   ],
   "source": [
    "# post to get cookies, if no cookies are given then they are returned and can be used later\n",
    "PAYLOAD = \"term={}&studyPath=&studyPathText=&startDatepicker=&endDatepicker=\"\n",
    "HEADERS = {\n",
    "    \"Content-Type\": \"application/x-www-form-urlencoded; charset=UT;\",\n",
    "    \"Cookie\": \"\"\n",
    "}\n",
    "\n",
    "PAYLOAD = PAYLOAD.format(TERM)\n",
    "print(PAYLOAD)\n",
    "\n",
    "response = requests.post(SET_TERM, data=PAYLOAD, headers=HEADERS)\n",
    "\n",
    "# the cookie is returned in the headers \"Set-Cookie\"\n",
    "cookies = response.headers[\"Set-Cookie\"].split(\";\")\n",
    "\n",
    "valid_cookie = \"\"\n",
    "for cookie in cookies:\n",
    "    # theres a bug in the cookie response from banner\n",
    "    if \",\" in cookie:\n",
    "        cookie =cookie.split(\",\")[1]\n",
    "        \n",
    "    if \"JSESSIONID\" in cookie: \n",
    "        valid_cookie += cookie + \";\"\n",
    "    elif \"nubanner-cookie\" in cookie:\n",
    "        valid_cookie += cookie + \";\"\n",
    "    \n",
    "# add the new cookie to headers\n",
    "HEADERS[\"Cookie\"] = valid_cookie\n",
    "\n",
    "print(HEADERS)\n",
    "response = requests.post(SET_TERM, data=PAYLOAD, headers=HEADERS)\n",
    "print(response.json())"
   ]
  },
  {
   "cell_type": "code",
   "execution_count": 169,
   "id": "4de0dceb-c814-4ad9-9d61-5373ab1cd864",
   "metadata": {},
   "outputs": [
    {
     "name": "stdout",
     "output_type": "stream",
     "text": [
      "b'<!DOCTYPE html>\\n<html>\\n    <head>\\n        <meta charset=\"utf-8\" />\\n        <meta name=\"viewport\" content=\"width=device-width,initial-scale=1.0\">\\n        <title>Log in - Loading Session Information</title>\\n        <link rel=\"stylesheet\" type=\"text/css\" href=\"/idp/css/main.css\">\\n        <script>\\n        <!--\\n\"use strict\";\\nfunction readLocalStorage(key) {\\n    var success;\\n    try {\\n        var value = localStorage.getItem(key);\\n        if (value != null) {\\n            document.form1[\"shib_idp_ls_value.\" + key].value = value;\\n        }\\n        success = \"true\";\\n    } catch (e) {\\n        success = \"false\";\\n        document.form1[\"shib_idp_ls_exception.\" + key].value = e;\\n    }\\n    document.form1[\"shib_idp_ls_success.\" + key].value = success;\\n}\\n\\nfunction isLocalStorageSupported() {\\n    try {\\n        localStorage.setItem(\"shib_idp_ls_test\", \"shib_idp_ls_test\");\\n        localStorage.removeItem(\"shib_idp_ls_test\");\\n        return true;\\n    } catch (e) {\\n        return false;\\n    }\\n}\\n        // -->\\n        </script>\\n    </head>\\n    <body onload=\"doLoad()\">\\n        <div class=\"wrapper\">\\n            <div class=\"container\">\\n                <header>\\n                    <h3>Log in - Loading Session Information</h3>\\n                </header>\\n                <div class=\"content\">\\n                Loading login session information from the browser...\\n                </div>\\n                <noscript>\\n                    <div class=\"content\">\\n                    Since your browser does not support JavaScript, you must press the Continue button once to proceed.\\n                    </div>\\n                </noscript>\\n<form name=\"form1\" action=\"/idp/profile/cas/login?execution=e1s1\" method=\"post\">\\n        <input name=\"shib_idp_ls_exception.shib_idp_session_ss\" type=\"hidden\" />\\n        <input name=\"shib_idp_ls_success.shib_idp_session_ss\" type=\"hidden\" value=\"false\" />\\n        <input name=\"shib_idp_ls_value.shib_idp_session_ss\" type=\"hidden\" />\\n        <input name=\"shib_idp_ls_exception.shib_idp_persistent_ss\" type=\"hidden\" />\\n        <input name=\"shib_idp_ls_success.shib_idp_persistent_ss\" type=\"hidden\" value=\"false\" />\\n        <input name=\"shib_idp_ls_value.shib_idp_persistent_ss\" type=\"hidden\" />\\n    <input name=\"shib_idp_ls_supported\" type=\"hidden\" />\\n    <input name=\"_eventId_proceed\" type=\"hidden\" />\\n    <noscript>\\n        <input type=\"submit\" value=\"Continue\" />\\n    </noscript>\\n</form>\\n\\n<script>\\n<!--\\nfunction doLoad() {\\n    var localStorageSupported = isLocalStorageSupported();\\n    document.form1[\"shib_idp_ls_supported\"].value = localStorageSupported;\\n    if (localStorageSupported) {\\n        readLocalStorage(\"shib_idp_session_ss\");\\n        readLocalStorage(\"shib_idp_persistent_ss\");\\n    }\\n    document.form1.submit();\\n}\\n// -->\\n</script>            </div>\\n            <footer>\\n                <div class=\"container container-footer\">\\n                    <p class=\"footer-text\">Northeastern University</p>\\n                </div>\\n            </footer>\\n        </div>\\n    </body>\\n</html>\\n'\n",
      "{'Content-Type': 'application/x-www-form-urlencoded; charset=UT;', 'Cookie': 'JSESSIONID=4E77A4AD3B24D1D6DAE5DCB88DAF2359; nubanner-cookie=2636063131.36895.0000;'}\n",
      "https://nubanner.neu.edu/StudentRegistrationSsb/ssb/searchResults/searchResults?txt_subject=CS&txt_courseNumber=2500&txt_term=202355&pageOffset=1&pageMaxSize=5\n",
      "('{\\n'\n",
      " '  \"success\": true,\\n'\n",
      " '  \"totalCount\": 0,\\n'\n",
      " '  \"data\": null,\\n'\n",
      " '  \"pageOffset\": 0,\\n'\n",
      " '  \"pageMaxSize\": 10,\\n'\n",
      " '  \"sectionsFetchedCount\": 0,\\n'\n",
      " '  \"pathMode\": null,\\n'\n",
      " '  \"searchResultsConfigs\": \\n'\n",
      " '  [\\n'\n",
      " '    {\\n'\n",
      " '      \"config\": \"courseTitle\",\\n'\n",
      " '      \"display\": \"Title\",\\n'\n",
      " '      \"title\": \"Title\",\\n'\n",
      " '      \"width\": \"9%\"\\n'\n",
      " '    },\\n'\n",
      " '    {\\n'\n",
      " '      \"config\": \"subjectDescription\",\\n'\n",
      " '      \"display\": \"Subject Description\",\\n'\n",
      " '      \"title\": \"Subject Description\",\\n'\n",
      " '      \"width\": \"5%\"\\n'\n",
      " '    },\\n'\n",
      " '    {\\n'\n",
      " '      \"config\": \"courseNumber\",\\n'\n",
      " '      \"display\": \"Course Number\",\\n'\n",
      " '      \"title\": \"Course Number\",\\n'\n",
      " '      \"width\": \"3%\"\\n'\n",
      " '    },\\n'\n",
      " '    {\\n'\n",
      " '      \"config\": \"sequenceNumber\",\\n'\n",
      " '      \"display\": \"Section\",\\n'\n",
      " '      \"title\": \"Section\",\\n'\n",
      " '      \"width\": \"3%\"\\n'\n",
      " '    },\\n'\n",
      " '    {\\n'\n",
      " '      \"config\": \"creditHours\",\\n'\n",
      " '      \"display\": \"Hours\",\\n'\n",
      " '      \"title\": \"Hours\",\\n'\n",
      " '      \"width\": \"3%\"\\n'\n",
      " '    },\\n'\n",
      " '    {\\n'\n",
      " '      \"config\": \"courseReferenceNumber\",\\n'\n",
      " '      \"display\": \"CRN\",\\n'\n",
      " '      \"title\": \"CRN\",\\n'\n",
      " '      \"width\": \"3%\"\\n'\n",
      " '    },\\n'\n",
      " '    {\\n'\n",
      " '      \"config\": \"term\",\\n'\n",
      " '      \"display\": \"Term\",\\n'\n",
      " '      \"title\": \"Term\",\\n'\n",
      " '      \"width\": \"3%\"\\n'\n",
      " '    },\\n'\n",
      " '    {\\n'\n",
      " '      \"config\": \"instructor\",\\n'\n",
      " '      \"display\": \"Instructor\",\\n'\n",
      " '      \"title\": \"Instructor\",\\n'\n",
      " '      \"width\": \"8%\"\\n'\n",
      " '    },\\n'\n",
      " '    {\\n'\n",
      " '      \"config\": \"meetingTime\",\\n'\n",
      " '      \"display\": \"Meeting Times\",\\n'\n",
      " '      \"title\": \"Meeting Times\",\\n'\n",
      " '      \"width\": \"15%\"\\n'\n",
      " '    },\\n'\n",
      " '    {\\n'\n",
      " '      \"config\": \"campus\",\\n'\n",
      " '      \"display\": \"Campus\",\\n'\n",
      " '      \"title\": \"Campus\",\\n'\n",
      " '      \"width\": \"3%\"\\n'\n",
      " '    },\\n'\n",
      " '    {\\n'\n",
      " '      \"config\": \"status\",\\n'\n",
      " '      \"display\": \"Status\",\\n'\n",
      " '      \"title\": \"Status\",\\n'\n",
      " '      \"width\": \"6%\"\\n'\n",
      " '    },\\n'\n",
      " '    {\\n'\n",
      " '      \"config\": \"scheduleType\",\\n'\n",
      " '      \"display\": \"Schedule Type\",\\n'\n",
      " '      \"title\": \"Schedule Type\",\\n'\n",
      " '      \"width\": \"5%\"\\n'\n",
      " '    },\\n'\n",
      " '    {\\n'\n",
      " '      \"config\": \"attribute\",\\n'\n",
      " '      \"display\": \"Attribute\",\\n'\n",
      " '      \"title\": \"Attribute\",\\n'\n",
      " '      \"width\": \"14%\"\\n'\n",
      " '    }\\n'\n",
      " '  ],\\n'\n",
      " '  \"ztcEncodedImage\": null\\n'\n",
      " '}')\n"
     ]
    }
   ],
   "source": [
    "# Search\n",
    "subject = \"CS\"\n",
    "course_number = 2500\n",
    "a = requests.get(\"https://nubanner.neu.edu/StudentRegistrationSsb/ssb\", headers=HEADERS)\n",
    "print(a.content)\n",
    "page = 1\n",
    "num_results = 5\n",
    "\n",
    "print(HEADERS)\n",
    "QUERY_URL = SEARCH.format(subject, course_number, code, page, num_results)\n",
    "print(QUERY_URL)\n",
    "\n",
    "# have to get with the headers that we got before\n",
    "response = requests.get(\"https://nubanner.neu.edu/StudentRegistrationSsb/ssb/searchResults/searchResults?txt_subject=CS&txt_courseNumber=2500&txt_term=201930&startDatepicker=&endDatepicker=&pageOffset=0&pageMaxSize=10&sortColumn=subjectDescription&sortDirection=asc\", headers=HEADERS)\n",
    "search = response.text\n",
    "pprint(search)"
   ]
  },
  {
   "cell_type": "code",
   "execution_count": null,
   "id": "4ed16d44-0098-48e6-abb3-9d6d9981c3a5",
   "metadata": {},
   "outputs": [],
   "source": []
  },
  {
   "cell_type": "code",
   "execution_count": null,
   "id": "1393489e-8fe3-4449-8e37-8dbd6a878dc7",
   "metadata": {},
   "outputs": [],
   "source": []
  }
 ],
 "metadata": {
  "kernelspec": {
   "display_name": "Python 3 (ipykernel)",
   "language": "python",
   "name": "python3"
  },
  "language_info": {
   "codemirror_mode": {
    "name": "ipython",
    "version": 3
   },
   "file_extension": ".py",
   "mimetype": "text/x-python",
   "name": "python",
   "nbconvert_exporter": "python",
   "pygments_lexer": "ipython3",
   "version": "3.11.2"
  }
 },
 "nbformat": 4,
 "nbformat_minor": 5
}
