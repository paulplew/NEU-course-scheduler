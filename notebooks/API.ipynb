{
 "cells": [
  {
   "cell_type": "code",
   "execution_count": 48,
   "id": "8efe7532-a01b-4ad6-bc05-1cec2150d469",
   "metadata": {},
   "outputs": [],
   "source": [
    "import requests"
   ]
  },
  {
   "cell_type": "code",
   "execution_count": 49,
   "id": "9e7f943a-7e82-4a40-a4f3-c57ce2084e14",
   "metadata": {},
   "outputs": [],
   "source": [
    "# GET\n",
    "TERM_URL = \"https://nubanner.neu.edu/StudentRegistrationSsb/ssb/classSearch/getTerms?offset={}&max={}\"\n",
    "SUBJECTS_URL = \"https://nubanner.neu.edu/StudentRegistrationSsb/ssb/classSearch/get_subject?searchTerm={}&term={}&offset={}&max={}\"\n",
    "SEARCH = \"https://nubanner.neu.edu/StudentRegistrationSsb/ssb/searchResults/searchResults?txt_subject={}&txt_courseNumber={}&txt_term={}&pageOffset={}&pageMaxSize={}\"\n",
    "\n",
    "# POST\n",
    "SET_TERM = \"https://nubanner.neu.edu/StudentRegistrationSsb/ssb/term/search?mode=search\""
   ]
  },
  {
   "cell_type": "code",
   "execution_count": 50,
   "id": "e25aa115-8f82-4d5a-8886-3ae99467cea7",
   "metadata": {},
   "outputs": [],
   "source": [
    "class RequestFailedException(Exception):\n",
    "    pass\n",
    "\n",
    "def get(url, **kwargs):\n",
    "    print(f\"fetching: {url}\")\n",
    "    response = requests.get(url, **kwargs)\n",
    "    \n",
    "    # 200 means good \n",
    "    if response.status_code == 200:\n",
    "        return response\n",
    "    else:\n",
    "        raise RequestFailedException(f\"Request failed with unknown status code: {response.status_code}\")\n",
    "\n",
    "def post(url, **kwargs):\n",
    "    print(f\"POST: {url}\")\n",
    "    response = requests.post(url, **kwargs)\n",
    "\n",
    "    if response.status_code == 200:\n",
    "        return response\n",
    "    else:\n",
    "        raise RequestFailedException(f\"Request failed with unknown status code: {response.status_code}\")"
   ]
  },
  {
   "cell_type": "code",
   "execution_count": 51,
   "id": "499cf8e5-7340-4f30-9771-b9c31610f76e",
   "metadata": {},
   "outputs": [
    {
     "name": "stdout",
     "output_type": "stream",
     "text": [
      "fetching: https://nubanner.neu.edu/StudentRegistrationSsb/ssb/classSearch/getTerms?offset=10&max=10\n",
      "term_id:\t201915\tdescription:\t'Fall 2018 CPS Quarter (View Only)'\n",
      "term_id:\t201914\tdescription:\t'Fall 2018 CPS Semester (View Only)'\n",
      "term_id:\t201912\tdescription:\t'Fall 2018 Law Semester (View Only)'\n",
      "term_id:\t201910\tdescription:\t'Fall 2018 Semester (View Only)'\n",
      "term_id:\t201860\tdescription:\t'Summer 2 2018 Semester (View Only)'\n",
      "term_id:\t201858\tdescription:\t'Summer 2018 Law Quarter (View Only)'\n",
      "term_id:\t201855\tdescription:\t'Summer 2018 CPS Quarter (View Only)'\n",
      "term_id:\t201854\tdescription:\t'Summer 2018 CPS Semester (View Only)'\n",
      "term_id:\t201852\tdescription:\t'Summer 2018 Law Semester (View Only)'\n",
      "term_id:\t201850\tdescription:\t'Summer Full 2018 Semester (View Only)'\n"
     ]
    }
   ],
   "source": [
    "page_offset = 10 #starts at 1\n",
    "number_results = 10\n",
    "\n",
    "QUERY_URL = TERM_URL.format(page_offset, number_results)\n",
    "terms = get(QUERY_URL).json()\n",
    "\n",
    "for term in terms:\n",
    "    code, description = term.values()\n",
    "    print(f\"term_id:\\t{code}\\tdescription:\\t'{description}'\")"
   ]
  },
  {
   "cell_type": "code",
   "execution_count": 52,
   "id": "cf87d490-1c48-416f-9f86-eca80e9790e0",
   "metadata": {},
   "outputs": [],
   "source": [
    "# select code from previous cell\n",
    "TERM_ID = 202430"
   ]
  },
  {
   "cell_type": "code",
   "execution_count": 53,
   "id": "a6d393f8-0073-441e-a752-83da83a90a3b",
   "metadata": {},
   "outputs": [
    {
     "name": "stdout",
     "output_type": "stream",
     "text": [
      "fetching: https://nubanner.neu.edu/StudentRegistrationSsb/ssb/classSearch/get_subject?searchTerm=Computer&term=202430&offset=1&max=100\n",
      "code:\tCS\tdescription:\tComputer Science\n",
      "code:\tCSYE\tdescription:\tComputer Systems Engineering\n"
     ]
    }
   ],
   "source": [
    "search_term = \"Computer\"\n",
    "page = 1\n",
    "num_results = 100\n",
    "\n",
    "QUERY_URL = SUBJECTS_URL.format(search_term, TERM_ID, page, num_results)\n",
    "results = get(QUERY_URL).json()\n",
    "\n",
    "terms = results\n",
    "for item in results:\n",
    "    code, description = item.values()\n",
    "    print(f\"code:\\t{code}\\tdescription:\\t{description}\")"
   ]
  },
  {
   "cell_type": "code",
   "execution_count": 54,
   "id": "499cea2c-5b85-43dd-a400-17d6a1618c92",
   "metadata": {},
   "outputs": [
    {
     "name": "stdout",
     "output_type": "stream",
     "text": [
      "POST: https://nubanner.neu.edu/StudentRegistrationSsb/ssb/term/search?mode=search\n",
      "{'fwdURL': '/StudentRegistrationSsb/ssb/classSearch/classSearch'}\n",
      "POST: https://nubanner.neu.edu/StudentRegistrationSsb/ssb/term/search?mode=search\n"
     ]
    },
    {
     "data": {
      "text/plain": [
       "{'fwdURL': '/StudentRegistrationSsb/ssb/classSearch/classSearch'}"
      ]
     },
     "execution_count": 54,
     "metadata": {},
     "output_type": "execute_result"
    }
   ],
   "source": [
    "# post to get cookies, if no cookies are given then they are returned and can be used later\n",
    "PAYLOAD = {\"term\": TERM_ID\n",
    "           }\n",
    "HEADERS = {\n",
    "    \"Content-Type\": \"application/x-www-form-urlencoded; charset=UT;\",\n",
    "}\n",
    "\n",
    "response = post(SET_TERM, data=PAYLOAD, headers=HEADERS)\n",
    "print(response.json())\n",
    "COOKIES = response.cookies\n",
    "\n",
    "response = post(SET_TERM, data=PAYLOAD, cookies=COOKIES, headers=HEADERS)\n",
    "\n",
    "response.json()"
   ]
  },
  {
   "cell_type": "code",
   "execution_count": 55,
   "id": "4de0dceb-c814-4ad9-9d61-5373ab1cd864",
   "metadata": {},
   "outputs": [
    {
     "name": "stdout",
     "output_type": "stream",
     "text": [
      "https://nubanner.neu.edu/StudentRegistrationSsb/ssb/searchResults/searchResults?txt_subject=CS&txt_courseNumber=2510&txt_term=202430&pageOffset=0&pageMaxSize=50\n",
      "CRN: 30199:\ttitle: Fundamentals of Computer Science 2\n",
      "\tProfessor: Lerner, Benjamin\n",
      "\tenrollment 66 / 97\n",
      "\twaitlist 0 / 0\n",
      "CRN: 30198:\ttitle: Fundamentals of Computer Science 2\n",
      "\tProfessor: Razzaq, Leena\n",
      "\tenrollment 40 / 114\n",
      "\twaitlist 0 / 0\n",
      "CRN: 30981:\ttitle: Fundamentals of Computer Science 2\n",
      "\tProfessor: Hescott, Benjamin\n",
      "\tenrollment 0 / 40\n",
      "\twaitlist 0 / 0\n",
      "CRN: 32017:\ttitle: Fundamentals of Computer Science 2\n",
      "\tProfessor: Park, John\n",
      "\tenrollment 114 / 114\n",
      "\twaitlist 0 / 0\n",
      "CRN: 34912:\ttitle: Fundamentals of Computer Science 2\n",
      "\tProfessor: Razzaq, Leena\n",
      "\tenrollment 65 / 114\n",
      "\twaitlist 0 / 0\n",
      "CRN: 32187:\ttitle: Fundamentals of Computer Science 2\n",
      "\tProfessor: Park, John\n",
      "\tenrollment 114 / 114\n",
      "\twaitlist 0 / 0\n",
      "CRN: 34913:\ttitle: Fundamentals of Computer Science 2\n",
      "\tProfessor: Razzaq, Leena\n",
      "\tenrollment 40 / 114\n",
      "\twaitlist 0 / 0\n",
      "CRN: 35466:\ttitle: Fundamentals of Computer Science 2\n",
      "\tProfessor: Park, John\n",
      "\tenrollment 114 / 114\n",
      "\twaitlist 0 / 0\n",
      "CRN: 37144:\ttitle: Fundamentals of Computer Science 2\n",
      "\tProfessor: Vesely, Ferdinand\n",
      "\tenrollment 0 / 114\n",
      "\twaitlist 0 / 0\n",
      "CRN: 39732:\ttitle: Fundamentals of Computer Science 2\n",
      "\tProfessor: Bhalerao, Rasika\n",
      "\tenrollment 0 / 60\n",
      "\twaitlist 0 / 0\n",
      "CRN: 39683:\ttitle: Fundamentals of Computer Science 2\n",
      "\tProfessor: Spertus, Ellen\n",
      "\tenrollment 60 / 60\n",
      "\twaitlist 0 / 0\n",
      "CRN: 39730:\ttitle: Fundamentals of Computer Science 2\n",
      "\tProfessor: Spertus, Ellen\n",
      "\tenrollment 50 / 50\n",
      "\twaitlist 0 / 0\n",
      "CRN: 39731:\ttitle: Fundamentals of Computer Science 2\n",
      "\tProfessor: Spertus, Ellen\n",
      "\tenrollment 50 / 50\n",
      "\twaitlist 0 / 0\n"
     ]
    },
    {
     "ename": "FileNotFoundError",
     "evalue": "[Errno 2] No such file or directory: './data/classes.json'",
     "output_type": "error",
     "traceback": [
      "\u001b[0;31m---------------------------------------------------------------------------\u001b[0m",
      "\u001b[0;31mFileNotFoundError\u001b[0m                         Traceback (most recent call last)",
      "Cell \u001b[0;32mIn[55], line 25\u001b[0m\n\u001b[1;32m     22\u001b[0m         \u001b[39mprint\u001b[39m(\u001b[39mf\u001b[39m\u001b[39m\"\u001b[39m\u001b[39m\\t\u001b[39;00m\u001b[39mwaitlist \u001b[39m\u001b[39m{\u001b[39;00mitem[\u001b[39m'\u001b[39m\u001b[39mwaitCount\u001b[39m\u001b[39m'\u001b[39m]\u001b[39m}\u001b[39;00m\u001b[39m / \u001b[39m\u001b[39m{\u001b[39;00mitem[\u001b[39m'\u001b[39m\u001b[39mwaitCapacity\u001b[39m\u001b[39m'\u001b[39m]\u001b[39m}\u001b[39;00m\u001b[39m\"\u001b[39m)\n\u001b[1;32m     24\u001b[0m \u001b[39mimport\u001b[39;00m \u001b[39mjson\u001b[39;00m\n\u001b[0;32m---> 25\u001b[0m \u001b[39mwith\u001b[39;00m \u001b[39mopen\u001b[39;49m(\u001b[39mf\u001b[39;49m\u001b[39m\"\u001b[39;49m\u001b[39m./data/classes.json\u001b[39;49m\u001b[39m\"\u001b[39;49m, \u001b[39m\"\u001b[39;49m\u001b[39mw\u001b[39;49m\u001b[39m\"\u001b[39;49m) \u001b[39mas\u001b[39;00m data_file:\n\u001b[1;32m     26\u001b[0m     json\u001b[39m.\u001b[39mdump(data, data_file, indent\u001b[39m=\u001b[39m\u001b[39m4\u001b[39m)\n\u001b[1;32m     28\u001b[0m \u001b[39m# Reset the form for some reason banner requires this\u001b[39;00m\n",
      "File \u001b[0;32m~/Documents/northeastern/23fa-cs4100/final/NEU-course-scheduler/.venv/lib/python3.11/site-packages/IPython/core/interactiveshell.py:308\u001b[0m, in \u001b[0;36m_modified_open\u001b[0;34m(file, *args, **kwargs)\u001b[0m\n\u001b[1;32m    301\u001b[0m \u001b[39mif\u001b[39;00m file \u001b[39min\u001b[39;00m {\u001b[39m0\u001b[39m, \u001b[39m1\u001b[39m, \u001b[39m2\u001b[39m}:\n\u001b[1;32m    302\u001b[0m     \u001b[39mraise\u001b[39;00m \u001b[39mValueError\u001b[39;00m(\n\u001b[1;32m    303\u001b[0m         \u001b[39mf\u001b[39m\u001b[39m\"\u001b[39m\u001b[39mIPython won\u001b[39m\u001b[39m'\u001b[39m\u001b[39mt let you open fd=\u001b[39m\u001b[39m{\u001b[39;00mfile\u001b[39m}\u001b[39;00m\u001b[39m by default \u001b[39m\u001b[39m\"\u001b[39m\n\u001b[1;32m    304\u001b[0m         \u001b[39m\"\u001b[39m\u001b[39mas it is likely to crash IPython. If you know what you are doing, \u001b[39m\u001b[39m\"\u001b[39m\n\u001b[1;32m    305\u001b[0m         \u001b[39m\"\u001b[39m\u001b[39myou can use builtins\u001b[39m\u001b[39m'\u001b[39m\u001b[39m open.\u001b[39m\u001b[39m\"\u001b[39m\n\u001b[1;32m    306\u001b[0m     )\n\u001b[0;32m--> 308\u001b[0m \u001b[39mreturn\u001b[39;00m io_open(file, \u001b[39m*\u001b[39;49margs, \u001b[39m*\u001b[39;49m\u001b[39m*\u001b[39;49mkwargs)\n",
      "\u001b[0;31mFileNotFoundError\u001b[0m: [Errno 2] No such file or directory: './data/classes.json'"
     ]
    }
   ],
   "source": [
    "# Search\n",
    "subject = \"CS\"\n",
    "course_number = 2510\n",
    "page = 0\n",
    "num_results = 50\n",
    "\n",
    "QUERY_URL = SEARCH.format(subject, course_number, TERM_ID, page, num_results)\n",
    "print(QUERY_URL)\n",
    "\n",
    "# have to get with the headers that we got before\n",
    "response = requests.get(QUERY_URL, cookies=COOKIES)\n",
    "search = response.json()\n",
    "\n",
    "data = search[\"data\"]\n",
    "if data is None or len(data) == 0:\n",
    "    print(\"No classes found\")\n",
    "else:\n",
    "    for item in data:\n",
    "        print(f\"CRN: {item['courseReferenceNumber']}:\\ttitle: {item['courseTitle']}\")\n",
    "        print(f\"\\tProfessor: {item['faculty'][0]['displayName']}\")\n",
    "        print(f\"\\tenrollment {item['enrollment']} / {item['maximumEnrollment']}\")\n",
    "        print(f\"\\twaitlist {item['waitCount']} / {item['waitCapacity']}\")\n",
    "\n",
    "import json\n",
    "with open(f\"./data/classes.json\", \"w\") as data_file:\n",
    "    json.dump(data, data_file, indent=4)\n",
    "    \n",
    "# Reset the form for some reason banner requires this\n",
    "if post(\"https://nubanner.neu.edu/StudentRegistrationSsb/ssb/classSearch/resetDataForm\", cookies=COOKIES).json():\n",
    "    print(\"reset successful\")\n",
    "else:\n",
    "    print(\"reset failed\")"
   ]
  },
  {
   "cell_type": "code",
   "execution_count": null,
   "id": "4ed16d44-0098-48e6-abb3-9d6d9981c3a5",
   "metadata": {},
   "outputs": [],
   "source": []
  },
  {
   "cell_type": "code",
   "execution_count": null,
   "id": "1393489e-8fe3-4449-8e37-8dbd6a878dc7",
   "metadata": {},
   "outputs": [],
   "source": []
  }
 ],
 "metadata": {
  "kernelspec": {
   "display_name": "Python 3 (ipykernel)",
   "language": "python",
   "name": "python3"
  },
  "language_info": {
   "codemirror_mode": {
    "name": "ipython",
    "version": 3
   },
   "file_extension": ".py",
   "mimetype": "text/x-python",
   "name": "python",
   "nbconvert_exporter": "python",
   "pygments_lexer": "ipython3",
   "version": "3.11.2"
  }
 },
 "nbformat": 4,
 "nbformat_minor": 5
}
