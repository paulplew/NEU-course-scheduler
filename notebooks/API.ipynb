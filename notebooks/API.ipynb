{
 "cells": [
  {
   "cell_type": "code",
   "execution_count": null,
   "id": "8efe7532-a01b-4ad6-bc05-1cec2150d469",
   "metadata": {},
   "outputs": [],
   "source": [
    "import requests"
   ]
  },
  {
   "cell_type": "code",
   "execution_count": null,
   "id": "9e7f943a-7e82-4a40-a4f3-c57ce2084e14",
   "metadata": {},
   "outputs": [],
   "source": [
    "# GET\n",
    "TERM_URL = \"https://nubanner.neu.edu/StudentRegistrationSsb/ssb/classSearch/getTerms?offset={}&max={}\"\n",
    "SUBJECTS_URL = \"https://nubanner.neu.edu/StudentRegistrationSsb/ssb/classSearch/get_subject?searchTerm={}&term={}&offset={}&max={}\"\n",
    "SEARCH = \"https://nubanner.neu.edu/StudentRegistrationSsb/ssb/searchResults/searchResults?txt_subject={}&txt_courseNumber={}&txt_term={}&pageOffset={}&pageMaxSize={}\"\n",
    "\n",
    "# POST\n",
    "SET_TERM = \"https://nubanner.neu.edu/StudentRegistrationSsb/ssb/term/search?mode=search\""
   ]
  },
  {
   "cell_type": "code",
   "execution_count": null,
   "id": "e25aa115-8f82-4d5a-8886-3ae99467cea7",
   "metadata": {},
   "outputs": [],
   "source": [
    "class RequestFailedException(Exception):\n",
    "    pass\n",
    "\n",
    "def get(url, **kwargs):\n",
    "    print(f\"fetching: {url}\")\n",
    "    response = requests.get(url, **kwargs)\n",
    "    \n",
    "    # 200 means good \n",
    "    if response.status_code == 200:\n",
    "        return response\n",
    "    else:\n",
    "        raise RequestFailedException(f\"Request failed with unknown status code: {response.status_code}\")\n",
    "\n",
    "def post(url, **kwargs):\n",
    "    print(f\"POST: {url}\")\n",
    "    response = requests.post(url, **kwargs)\n",
    "\n",
    "    if response.status_code == 200:\n",
    "        return response\n",
    "    else:\n",
    "        raise RequestFailedException(f\"Request failed with unknown status code: {response.status_code}\")"
   ]
  },
  {
   "cell_type": "code",
   "execution_count": null,
   "id": "499cf8e5-7340-4f30-9771-b9c31610f76e",
   "metadata": {},
   "outputs": [],
   "source": [
    "page_offset = 1 #starts at 1\n",
    "number_results = 10\n",
    "\n",
    "QUERY_URL = TERM_URL.format(page_offset, number_results)\n",
    "terms = get(QUERY_URL).json()\n",
    "\n",
    "for term in terms:\n",
    "    code, description = term.values()\n",
    "    print(f\"term_id:\\t{code}\\tdescription:\\t'{description}'\")"
   ]
  },
  {
   "cell_type": "code",
   "execution_count": null,
   "id": "cf87d490-1c48-416f-9f86-eca80e9790e0",
   "metadata": {},
   "outputs": [],
   "source": [
    "# select code from previous cell\n",
    "TERM_ID = 202430"
   ]
  },
  {
   "cell_type": "code",
   "execution_count": null,
   "id": "a6d393f8-0073-441e-a752-83da83a90a3b",
   "metadata": {},
   "outputs": [],
   "source": [
    "search_term = \"Computer\"\n",
    "page = 1\n",
    "num_results = 100\n",
    "\n",
    "QUERY_URL = SUBJECTS_URL.format(search_term, TERM_ID, page, num_results)\n",
    "results = get(QUERY_URL).json()\n",
    "\n",
    "terms = results\n",
    "for item in results:\n",
    "    code, description = item.values()\n",
    "    print(f\"code:\\t{code}\\tdescription:\\t{description}\")"
   ]
  },
  {
   "cell_type": "code",
   "execution_count": null,
   "id": "499cea2c-5b85-43dd-a400-17d6a1618c92",
   "metadata": {},
   "outputs": [],
   "source": [
    "# post to get cookies, if no cookies are given then they are returned and can be used later\n",
    "PAYLOAD = {\"term\": TERM_ID\n",
    "           }\n",
    "HEADERS = {\n",
    "    \"Content-Type\": \"application/x-www-form-urlencoded; charset=UT;\",\n",
    "}\n",
    "\n",
    "response = post(SET_TERM, data=PAYLOAD, headers=HEADERS)\n",
    "print(response.json())\n",
    "COOKIES = response.cookies\n",
    "\n",
    "response = post(SET_TERM, data=PAYLOAD, cookies=COOKIES, headers=HEADERS)\n",
    "\n",
    "response.json()"
   ]
  },
  {
   "cell_type": "code",
   "execution_count": null,
   "id": "4de0dceb-c814-4ad9-9d61-5373ab1cd864",
   "metadata": {},
   "outputs": [],
   "source": [
    "# Search\n",
    "subject = \"CS\"\n",
    "course_number = 2511\n",
    "page = 0\n",
    "num_results = 50\n",
    "\n",
    "QUERY_URL = SEARCH.format(subject, course_number, TERM_ID, page, num_results)\n",
    "print(QUERY_URL)\n",
    "\n",
    "# have to get with the headers that we got before\n",
    "response = requests.get(QUERY_URL, cookies=COOKIES)\n",
    "search = response.json()\n",
    "\n",
    "data = search[\"data\"]\n",
    "if data is None or len(data) == 0:\n",
    "    print(\"No classes found\")\n",
    "else:\n",
    "    for item in data:\n",
    "        # if item[\"courseReferenceNumber\"] != \"34912\":\n",
    "        #     continue\n",
    "        print(f\"CRN: {item['courseReferenceNumber']}:\\ttitle: {item['courseTitle']}\")\n",
    "        print(f\"\\tProfessor: {item['faculty'][0]['displayName']}\")\n",
    "        print(f\"\\tenrollment {item['enrollment']} / {item['maximumEnrollment']}\")\n",
    "        print(f\"\\twaitlist {item['waitCount']} / {item['waitCapacity']}\")\n",
    "        print(f\"\\ttime: {item['meetingsFaculty'][0]['meetingTime']['beginTime']} - {item['meetingsFaculty'][0]['meetingTime']['endTime']}\")\n",
    "        print(f\"\\tTuesday: {item['meetingsFaculty'][0]['meetingTime']['tuesday']}\")\n",
    "\n",
    "import json\n",
    "with open(f\"./data/classes.json\", \"w\") as data_file:\n",
    "    json.dump(data, data_file, indent=4)\n",
    "    \n",
    "# Reset the form for some reason banner requires this\n",
    "if post(\"https://nubanner.neu.edu/StudentRegistrationSsb/ssb/classSearch/resetDataForm\", cookies=COOKIES).json():\n",
    "    print(\"reset successful\")\n",
    "else:\n",
    "    print(\"reset failed\")"
   ]
  },
  {
   "cell_type": "code",
   "execution_count": null,
   "id": "4ed16d44-0098-48e6-abb3-9d6d9981c3a5",
   "metadata": {},
   "outputs": [],
   "source": []
  },
  {
   "cell_type": "code",
   "execution_count": null,
   "id": "1393489e-8fe3-4449-8e37-8dbd6a878dc7",
   "metadata": {},
   "outputs": [],
   "source": []
  }
 ],
 "metadata": {
  "kernelspec": {
   "display_name": "Python 3 (ipykernel)",
   "language": "python",
   "name": "python3"
  },
  "language_info": {
   "codemirror_mode": {
    "name": "ipython",
    "version": 3
   },
   "file_extension": ".py",
   "mimetype": "text/x-python",
   "name": "python",
   "nbconvert_exporter": "python",
   "pygments_lexer": "ipython3",
   "version": "3.11.2"
  }
 },
 "nbformat": 4,
 "nbformat_minor": 5
}
